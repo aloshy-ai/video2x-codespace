{
 "cells": [
  {
   "cell_type": "markdown",
   "metadata": {},
   "source": [
    "# Video2X Codespace Notebook\n",
    "\n",
    "Adapted from the original [Video2X Colab Notebook](https://github.com/k4yt3x/video2x) for GitHub Codespace environment.\n",
    "\n",
    "**Features:**\n",
    "- 🎯 RealESRGAN and libplacebo filters\n",
    "- 📁 Local file system (no Google Drive dependency)\n",
    "- ⚡ CPU/GPU processing support\n",
    "- 🔧 Interactive configuration\n",
    "\n",
    "**Note:** This runs in a Codespace environment with local storage."
   ]
  },
  {
   "cell_type": "code",
   "execution_count": 9,
   "metadata": {},
   "outputs": [
    {
     "name": "stdout",
     "output_type": "stream",
     "text": [
      "🔍 Checking system resources...\n",
      "⚠️ nvidia-smi not found - CPU processing only\n",
      "\n",
      "❌ Video2X not installed - run setup script\n"
     ]
    }
   ],
   "source": [
    "# Step 0: System Check\n",
    "import subprocess\n",
    "\n",
    "print(\"🔍 Checking system resources...\")\n",
    "\n",
    "# Check GPU\n",
    "try:\n",
    "    result = subprocess.run(['nvidia-smi'], capture_output=True, text=True)\n",
    "    if result.returncode == 0:\n",
    "        print(\"✅ GPU detected:\")\n",
    "        print(result.stdout)\n",
    "    else:\n",
    "        print(\"⚠️ No GPU detected - will use CPU processing\")\n",
    "except FileNotFoundError:\n",
    "    print(\"⚠️ nvidia-smi not found - CPU processing only\")\n",
    "\n",
    "# Check Video2X\n",
    "try:\n",
    "    result = subprocess.run(['video2x', '--version'], capture_output=True, text=True)\n",
    "    if result.returncode == 0:\n",
    "        print(\"\\n✅ Video2X is available:\")\n",
    "        print(result.stdout)\n",
    "    else:\n",
    "        print(\"\\n❌ Video2X not found - run setup first\")\n",
    "except FileNotFoundError:\n",
    "    print(\"\\n❌ Video2X not installed - run setup script\")"
   ]
  },
  {
   "cell_type": "code",
   "execution_count": 6,
   "metadata": {},
   "outputs": [
    {
     "name": "stdout",
     "output_type": "stream",
     "text": [
      "✅ Found input file: test_sample.mp4\n"
     ]
    }
   ],
   "source": [
    "# Step 1: File Management\n",
    "import pathlib\n",
    "import ipywidgets as widgets\n",
    "from IPython.display import display, clear_output\n",
    "\n",
    "# Set up local paths\n",
    "workspace_path = pathlib.Path('/workspaces/video2x-codespace')\n",
    "input_dir = workspace_path / 'input'\n",
    "output_dir = workspace_path / 'output'\n",
    "temp_dir = workspace_path / 'temp'\n",
    "\n",
    "# Ensure directories exist\n",
    "for dir_path in [input_dir, output_dir, temp_dir]:\n",
    "    dir_path.mkdir(parents=True, exist_ok=True)\n",
    "\n",
    "input_file = None\n",
    "\n",
    "# Check for existing files\n",
    "input_files = [f for f in input_dir.iterdir() if f.is_file()]\n",
    "if input_files:\n",
    "    input_file = input_files[0]\n",
    "    print(f\"✅ Found input file: {input_file.name}\")\n",
    "else:\n",
    "    print(\"📁 No files found in input directory\")\n",
    "    print(f\"📍 Upload files to: {input_dir}\")\n",
    "    print(\"💡 Use VS Code file explorer to drag and drop videos\")"
   ]
  },
  {
   "cell_type": "code",
   "execution_count": 7,
   "metadata": {},
   "outputs": [
    {
     "name": "stdout",
     "output_type": "stream",
     "text": [
      "⚙️ Configuration:\n"
     ]
    },
    {
     "data": {
      "application/vnd.jupyter.widget-view+json": {
       "model_id": "d6ebeaaf15de41279c42b1e6c61855b6",
       "version_major": 2,
       "version_minor": 0
      },
      "text/plain": [
       "Dropdown(description='Filter:', options=(('RealESRGAN', 'realesrgan'), ('libplacebo', 'libplacebo')), value='r…"
      ]
     },
     "metadata": {},
     "output_type": "display_data"
    },
    {
     "data": {
      "application/vnd.jupyter.widget-view+json": {
       "model_id": "94c8960e44054e67adcb7dc06a0675ab",
       "version_major": 2,
       "version_minor": 0
      },
      "text/plain": [
       "IntSlider(value=2, description='Scale:', max=4, min=2)"
      ]
     },
     "metadata": {},
     "output_type": "display_data"
    },
    {
     "name": "stdout",
     "output_type": "stream",
     "text": [
      "🎯 Filter: realesrgan\n",
      "🤖 Model: realesr-animevideov3\n",
      "📏 Scale: 2x\n"
     ]
    }
   ],
   "source": [
    "# Step 2: Configuration\n",
    "import ipywidgets as widgets\n",
    "\n",
    "# Default configuration\n",
    "filter_type = 'realesrgan'\n",
    "model = 'realesr-animevideov3'\n",
    "scale = 2\n",
    "codec = 'libx264'\n",
    "crf = 20\n",
    "\n",
    "# Interactive widgets\n",
    "filter_widget = widgets.Dropdown(\n",
    "    options=[('RealESRGAN', 'realesrgan'), ('libplacebo', 'libplacebo')],\n",
    "    value=filter_type,\n",
    "    description='Filter:'\n",
    ")\n",
    "\n",
    "scale_widget = widgets.IntSlider(\n",
    "    value=scale, min=2, max=4, step=1, description='Scale:'\n",
    ")\n",
    "\n",
    "print(\"⚙️ Configuration:\")\n",
    "display(filter_widget)\n",
    "display(scale_widget)\n",
    "\n",
    "print(f\"🎯 Filter: {filter_type}\")\n",
    "print(f\"🤖 Model: {model}\")\n",
    "print(f\"📏 Scale: {scale}x\")"
   ]
  },
  {
   "cell_type": "code",
   "execution_count": 8,
   "metadata": {},
   "outputs": [
    {
     "name": "stdout",
     "output_type": "stream",
     "text": [
      "🎬 Processing: test_sample.mp4\n",
      "📤 Output: test_sample_enhanced_2x.mp4\n",
      "🚀 Starting processing...\n"
     ]
    },
    {
     "ename": "FileNotFoundError",
     "evalue": "[Errno 2] No such file or directory: 'video2x'",
     "output_type": "error",
     "traceback": [
      "\u001b[0;31m---------------------------------------------------------------------------\u001b[0m",
      "\u001b[0;31mFileNotFoundError\u001b[0m                         Traceback (most recent call last)",
      "Cell \u001b[0;32mIn[8], line 27\u001b[0m\n\u001b[1;32m     16\u001b[0m command \u001b[38;5;241m=\u001b[39m [\n\u001b[1;32m     17\u001b[0m     \u001b[38;5;124m'\u001b[39m\u001b[38;5;124mvideo2x\u001b[39m\u001b[38;5;124m'\u001b[39m,\n\u001b[1;32m     18\u001b[0m     \u001b[38;5;124m'\u001b[39m\u001b[38;5;124m--input\u001b[39m\u001b[38;5;124m'\u001b[39m, \u001b[38;5;28mstr\u001b[39m(input_file),\n\u001b[0;32m   (...)\u001b[0m\n\u001b[1;32m     23\u001b[0m     \u001b[38;5;124m'\u001b[39m\u001b[38;5;124m--codec\u001b[39m\u001b[38;5;124m'\u001b[39m, codec\n\u001b[1;32m     24\u001b[0m ]\n\u001b[1;32m     26\u001b[0m \u001b[38;5;28mprint\u001b[39m(\u001b[38;5;124m\"\u001b[39m\u001b[38;5;124m🚀 Starting processing...\u001b[39m\u001b[38;5;124m\"\u001b[39m)\n\u001b[0;32m---> 27\u001b[0m result \u001b[38;5;241m=\u001b[39m \u001b[43msubprocess\u001b[49m\u001b[38;5;241;43m.\u001b[39;49m\u001b[43mrun\u001b[49m\u001b[43m(\u001b[49m\u001b[43mcommand\u001b[49m\u001b[43m)\u001b[49m\n\u001b[1;32m     29\u001b[0m \u001b[38;5;28;01mif\u001b[39;00m result\u001b[38;5;241m.\u001b[39mreturncode \u001b[38;5;241m==\u001b[39m \u001b[38;5;241m0\u001b[39m \u001b[38;5;129;01mand\u001b[39;00m output_file\u001b[38;5;241m.\u001b[39mexists():\n\u001b[1;32m     30\u001b[0m     size_mb \u001b[38;5;241m=\u001b[39m output_file\u001b[38;5;241m.\u001b[39mstat()\u001b[38;5;241m.\u001b[39mst_size \u001b[38;5;241m/\u001b[39m (\u001b[38;5;241m1024\u001b[39m\u001b[38;5;241m*\u001b[39m\u001b[38;5;241m1024\u001b[39m)\n",
      "File \u001b[0;32m/usr/local/lib/python3.10/subprocess.py:503\u001b[0m, in \u001b[0;36mrun\u001b[0;34m(input, capture_output, timeout, check, *popenargs, **kwargs)\u001b[0m\n\u001b[1;32m    500\u001b[0m     kwargs[\u001b[38;5;124m'\u001b[39m\u001b[38;5;124mstdout\u001b[39m\u001b[38;5;124m'\u001b[39m] \u001b[38;5;241m=\u001b[39m PIPE\n\u001b[1;32m    501\u001b[0m     kwargs[\u001b[38;5;124m'\u001b[39m\u001b[38;5;124mstderr\u001b[39m\u001b[38;5;124m'\u001b[39m] \u001b[38;5;241m=\u001b[39m PIPE\n\u001b[0;32m--> 503\u001b[0m \u001b[38;5;28;01mwith\u001b[39;00m \u001b[43mPopen\u001b[49m\u001b[43m(\u001b[49m\u001b[38;5;241;43m*\u001b[39;49m\u001b[43mpopenargs\u001b[49m\u001b[43m,\u001b[49m\u001b[43m \u001b[49m\u001b[38;5;241;43m*\u001b[39;49m\u001b[38;5;241;43m*\u001b[39;49m\u001b[43mkwargs\u001b[49m\u001b[43m)\u001b[49m \u001b[38;5;28;01mas\u001b[39;00m process:\n\u001b[1;32m    504\u001b[0m     \u001b[38;5;28;01mtry\u001b[39;00m:\n\u001b[1;32m    505\u001b[0m         stdout, stderr \u001b[38;5;241m=\u001b[39m process\u001b[38;5;241m.\u001b[39mcommunicate(\u001b[38;5;28minput\u001b[39m, timeout\u001b[38;5;241m=\u001b[39mtimeout)\n",
      "File \u001b[0;32m/usr/local/lib/python3.10/subprocess.py:971\u001b[0m, in \u001b[0;36mPopen.__init__\u001b[0;34m(self, args, bufsize, executable, stdin, stdout, stderr, preexec_fn, close_fds, shell, cwd, env, universal_newlines, startupinfo, creationflags, restore_signals, start_new_session, pass_fds, user, group, extra_groups, encoding, errors, text, umask, pipesize)\u001b[0m\n\u001b[1;32m    967\u001b[0m         \u001b[38;5;28;01mif\u001b[39;00m \u001b[38;5;28mself\u001b[39m\u001b[38;5;241m.\u001b[39mtext_mode:\n\u001b[1;32m    968\u001b[0m             \u001b[38;5;28mself\u001b[39m\u001b[38;5;241m.\u001b[39mstderr \u001b[38;5;241m=\u001b[39m io\u001b[38;5;241m.\u001b[39mTextIOWrapper(\u001b[38;5;28mself\u001b[39m\u001b[38;5;241m.\u001b[39mstderr,\n\u001b[1;32m    969\u001b[0m                     encoding\u001b[38;5;241m=\u001b[39mencoding, errors\u001b[38;5;241m=\u001b[39merrors)\n\u001b[0;32m--> 971\u001b[0m     \u001b[38;5;28;43mself\u001b[39;49m\u001b[38;5;241;43m.\u001b[39;49m\u001b[43m_execute_child\u001b[49m\u001b[43m(\u001b[49m\u001b[43margs\u001b[49m\u001b[43m,\u001b[49m\u001b[43m \u001b[49m\u001b[43mexecutable\u001b[49m\u001b[43m,\u001b[49m\u001b[43m \u001b[49m\u001b[43mpreexec_fn\u001b[49m\u001b[43m,\u001b[49m\u001b[43m \u001b[49m\u001b[43mclose_fds\u001b[49m\u001b[43m,\u001b[49m\n\u001b[1;32m    972\u001b[0m \u001b[43m                        \u001b[49m\u001b[43mpass_fds\u001b[49m\u001b[43m,\u001b[49m\u001b[43m \u001b[49m\u001b[43mcwd\u001b[49m\u001b[43m,\u001b[49m\u001b[43m \u001b[49m\u001b[43menv\u001b[49m\u001b[43m,\u001b[49m\n\u001b[1;32m    973\u001b[0m \u001b[43m                        \u001b[49m\u001b[43mstartupinfo\u001b[49m\u001b[43m,\u001b[49m\u001b[43m \u001b[49m\u001b[43mcreationflags\u001b[49m\u001b[43m,\u001b[49m\u001b[43m \u001b[49m\u001b[43mshell\u001b[49m\u001b[43m,\u001b[49m\n\u001b[1;32m    974\u001b[0m \u001b[43m                        \u001b[49m\u001b[43mp2cread\u001b[49m\u001b[43m,\u001b[49m\u001b[43m \u001b[49m\u001b[43mp2cwrite\u001b[49m\u001b[43m,\u001b[49m\n\u001b[1;32m    975\u001b[0m \u001b[43m                        \u001b[49m\u001b[43mc2pread\u001b[49m\u001b[43m,\u001b[49m\u001b[43m \u001b[49m\u001b[43mc2pwrite\u001b[49m\u001b[43m,\u001b[49m\n\u001b[1;32m    976\u001b[0m \u001b[43m                        \u001b[49m\u001b[43merrread\u001b[49m\u001b[43m,\u001b[49m\u001b[43m \u001b[49m\u001b[43merrwrite\u001b[49m\u001b[43m,\u001b[49m\n\u001b[1;32m    977\u001b[0m \u001b[43m                        \u001b[49m\u001b[43mrestore_signals\u001b[49m\u001b[43m,\u001b[49m\n\u001b[1;32m    978\u001b[0m \u001b[43m                        \u001b[49m\u001b[43mgid\u001b[49m\u001b[43m,\u001b[49m\u001b[43m \u001b[49m\u001b[43mgids\u001b[49m\u001b[43m,\u001b[49m\u001b[43m \u001b[49m\u001b[43muid\u001b[49m\u001b[43m,\u001b[49m\u001b[43m \u001b[49m\u001b[43mumask\u001b[49m\u001b[43m,\u001b[49m\n\u001b[1;32m    979\u001b[0m \u001b[43m                        \u001b[49m\u001b[43mstart_new_session\u001b[49m\u001b[43m)\u001b[49m\n\u001b[1;32m    980\u001b[0m \u001b[38;5;28;01mexcept\u001b[39;00m:\n\u001b[1;32m    981\u001b[0m     \u001b[38;5;66;03m# Cleanup if the child failed starting.\u001b[39;00m\n\u001b[1;32m    982\u001b[0m     \u001b[38;5;28;01mfor\u001b[39;00m f \u001b[38;5;129;01min\u001b[39;00m \u001b[38;5;28mfilter\u001b[39m(\u001b[38;5;28;01mNone\u001b[39;00m, (\u001b[38;5;28mself\u001b[39m\u001b[38;5;241m.\u001b[39mstdin, \u001b[38;5;28mself\u001b[39m\u001b[38;5;241m.\u001b[39mstdout, \u001b[38;5;28mself\u001b[39m\u001b[38;5;241m.\u001b[39mstderr)):\n",
      "File \u001b[0;32m/usr/local/lib/python3.10/subprocess.py:1863\u001b[0m, in \u001b[0;36mPopen._execute_child\u001b[0;34m(self, args, executable, preexec_fn, close_fds, pass_fds, cwd, env, startupinfo, creationflags, shell, p2cread, p2cwrite, c2pread, c2pwrite, errread, errwrite, restore_signals, gid, gids, uid, umask, start_new_session)\u001b[0m\n\u001b[1;32m   1861\u001b[0m     \u001b[38;5;28;01mif\u001b[39;00m errno_num \u001b[38;5;241m!=\u001b[39m \u001b[38;5;241m0\u001b[39m:\n\u001b[1;32m   1862\u001b[0m         err_msg \u001b[38;5;241m=\u001b[39m os\u001b[38;5;241m.\u001b[39mstrerror(errno_num)\n\u001b[0;32m-> 1863\u001b[0m     \u001b[38;5;28;01mraise\u001b[39;00m child_exception_type(errno_num, err_msg, err_filename)\n\u001b[1;32m   1864\u001b[0m \u001b[38;5;28;01mraise\u001b[39;00m child_exception_type(err_msg)\n",
      "\u001b[0;31mFileNotFoundError\u001b[0m: [Errno 2] No such file or directory: 'video2x'"
     ]
    }
   ],
   "source": [
    "# Step 3: Video Processing\n",
    "import subprocess\n",
    "\n",
    "if input_file is None:\n",
    "    print(\"❌ No input file selected. Upload a video first.\")\n",
    "else:\n",
    "    output_file = output_dir / f\"{input_file.stem}_enhanced_{scale}x{input_file.suffix}\"\n",
    "    \n",
    "    if output_file.exists():\n",
    "        print(f\"⚠️ Output already exists: {output_file.name}\")\n",
    "    else:\n",
    "        print(f\"🎬 Processing: {input_file.name}\")\n",
    "        print(f\"📤 Output: {output_file.name}\")\n",
    "        \n",
    "        # Build Video2X command\n",
    "        command = [\n",
    "            'video2x',\n",
    "            '--input', str(input_file),\n",
    "            '--output', str(output_file),\n",
    "            '--processor', filter_type,\n",
    "            '--scaling-factor', str(scale),\n",
    "            '--realesrgan-model', model,\n",
    "            '--codec', codec\n",
    "        ]\n",
    "        \n",
    "        print(\"🚀 Starting processing...\")\n",
    "        result = subprocess.run(command)\n",
    "        \n",
    "        if result.returncode == 0 and output_file.exists():\n",
    "            size_mb = output_file.stat().st_size / (1024*1024)\n",
    "            print(f\"✅ Success! Output: {size_mb:.1f} MB\")\n",
    "        else:\n",
    "            print(\"❌ Processing failed\")"
   ]
  },
  {
   "cell_type": "code",
   "execution_count": null,
   "metadata": {},
   "outputs": [],
   "source": [
    "# Step 4: Results\n",
    "output_files = [f for f in output_dir.iterdir() if f.is_file()]\n",
    "\n",
    "if output_files:\n",
    "    print(f\"📁 Found {len(output_files)} processed files:\")\n",
    "    for f in output_files:\n",
    "        size_mb = f.stat().st_size / (1024*1024)\n",
    "        print(f\"  📄 {f.name} ({size_mb:.1f} MB)\")\n",
    "else:\n",
    "    print(\"📭 No processed files found\")\n",
    "\n",
    "print(\"\\n💡 Download Instructions:\")\n",
    "print(\"1. Use VS Code file explorer\")\n",
    "print(f\"2. Navigate to: {output_dir}\")\n",
    "print(\"3. Right-click file → Download\")"
   ]
  }
 ],
 "metadata": {
  "kernelspec": {
   "display_name": "Python 3 (ipykernel)",
   "language": "python",
   "name": "python3"
  },
  "language_info": {
   "codemirror_mode": {
    "name": "ipython",
    "version": 3
   },
   "file_extension": ".py",
   "mimetype": "text/x-python",
   "name": "python",
   "nbconvert_exporter": "python",
   "pygments_lexer": "ipython3",
   "version": "3.10.18"
  }
 },
 "nbformat": 4,
 "nbformat_minor": 4
}
