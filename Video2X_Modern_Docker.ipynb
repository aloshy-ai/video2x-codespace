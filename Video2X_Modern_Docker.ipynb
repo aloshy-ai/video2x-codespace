{
 "cells": [
  {
   "cell_type": "markdown",
   "metadata": {},
   "source": [
    "# Video2X Modern Setup - Docker Version\n",
    "\n",
    "This notebook demonstrates how to use the modern Video2X (version 6+) which is now a C/C++ application running in Docker.\n",
    "\n",
    "## Features\n",
    "- **Real-ESRGAN**: Best for real-world videos\n",
    "- **Anime4K**: Optimized for anime content\n",
    "- **RIFE**: Frame interpolation for smoother video\n",
    "- **Fast Processing**: C/C++ implementation is much faster than the old Python version"
   ]
  },
  {
   "cell_type": "code",
   "execution_count": null,
   "metadata": {},
   "outputs": [],
   "source": [
    "# Import required libraries\n",
    "import os\n",
    "import sys\n",
    "import subprocess\n",
    "from pathlib import Path\n",
    "import cv2\n",
    "import numpy as np\n",
    "import matplotlib.pyplot as plt\n",
    "\n",
    "# Add our custom Video2X wrapper\n",
    "sys.path.append('/workspaces/video2x-codespace')\n",
    "import video2x_wrapper"
   ]
  },
  {
   "cell_type": "code",
   "execution_count": null,
   "metadata": {},
   "outputs": [],
   "source": [
    "# Initialize Video2X wrapper\n",
    "v2x = video2x_wrapper.Video2X()\n",
    "\n",
    "print(\"📁 Workspace structure:\")\n",
    "print(f\"Input directory: {v2x.input_dir}\")\n",
    "print(f\"Output directory: {v2x.output_dir}\")\n",
    "\n",
    "# Create directories if they don't exist\n",
    "v2x.input_dir.mkdir(exist_ok=True)\n",
    "v2x.output_dir.mkdir(exist_ok=True)\n",
    "\n",
    "print(\"\\n✅ Video2X wrapper initialized!\")"
   ]
  },
  {
   "cell_type": "markdown",
   "metadata": {},
   "source": [
    "## Check Available Videos"
   ]
  },
  {
   "cell_type": "code",
   "execution_count": null,
   "metadata": {},
   "outputs": [],
   "source": [
    "# List available input videos\n",
    "input_files = list(v2x.input_dir.glob('*.mp4')) + list(v2x.input_dir.glob('*.avi')) + list(v2x.input_dir.glob('*.mkv'))\n",
    "\n",
    "print(\"📹 Available videos in input directory:\")\n",
    "if input_files:\n",
    "    for i, file in enumerate(input_files):\n",
    "        print(f\"  {i+1}. {file.name}\")\n",
    "else:\n",
    "    print(\"  No videos found. Upload a video to the input/ directory first.\")\n",
    "    \n",
    "    # Create a sample video if none exists\n",
    "    print(\"\\n🎥 Creating a sample test video...\")\n",
    "    try:\n",
    "        subprocess.run([\n",
    "            'ffmpeg', '-f', 'lavfi', '-i', 'testsrc=duration=5:size=320x240:rate=30',\n",
    "            str(v2x.input_dir / 'sample_test.mp4'),\n",
    "            '-y', '-loglevel', 'quiet'\n",
    "        ], check=True)\n",
    "        print(\"✅ Sample video created: sample_test.mp4\")\n",
    "        input_files = [v2x.input_dir / 'sample_test.mp4']\n",
    "    except:\n",
    "        print(\"❌ Could not create sample video\")"
   ]
  },
  {
   "cell_type": "markdown",
   "metadata": {},
   "source": [
    "## Video Analysis"
   ]
  },
  {
   "cell_type": "code",
   "execution_count": null,
   "metadata": {},
   "outputs": [],
   "source": [
    "# Analyze a video file\n",
    "if input_files:\n",
    "    video_file = input_files[0]  # Use first available video\n",
    "    print(f\"📊 Analyzing: {video_file.name}\")\n",
    "    \n",
    "    # Get video properties using OpenCV\n",
    "    cap = cv2.VideoCapture(str(video_file))\n",
    "    \n",
    "    if cap.isOpened():\n",
    "        width = int(cap.get(cv2.CAP_PROP_FRAME_WIDTH))\n",
    "        height = int(cap.get(cv2.CAP_PROP_FRAME_HEIGHT))\n",
    "        fps = cap.get(cv2.CAP_PROP_FPS)\n",
    "        frame_count = int(cap.get(cv2.CAP_PROP_FRAME_COUNT))\n",
    "        duration = frame_count / fps if fps > 0 else 0\n",
    "        \n",
    "        print(f\"  📐 Resolution: {width}x{height}\")\n",
    "        print(f\"  🎬 FPS: {fps:.2f}\")\n",
    "        print(f\"  📽️  Frames: {frame_count}\")\n",
    "        print(f\"  ⏱️  Duration: {duration:.2f} seconds\")\n",
    "        \n",
    "        # Read and display first frame\n",
    "        ret, frame = cap.read()\n",
    "        if ret:\n",
    "            frame_rgb = cv2.cvtColor(frame, cv2.COLOR_BGR2RGB)\n",
    "            plt.figure(figsize=(8, 6))\n",
    "            plt.imshow(frame_rgb)\n",
    "            plt.title(f\"First frame of {video_file.name}\")\n",
    "            plt.axis('off')\n",
    "            plt.show()\n",
    "        \n",
    "        cap.release()\n",
    "    else:\n",
    "        print(\"❌ Could not open video file\")\n",
    "else:\n",
    "    print(\"⚠️  No video files available for analysis\")"
   ]
  },
  {
   "cell_type": "markdown",
   "metadata": {},
   "source": [
    "## Video Upscaling with Video2X\n",
    "\n",
    "### Choose Your Algorithm:\n",
    "- **Real-ESRGAN**: Best for real-world videos, photographs\n",
    "- **Anime4K**: Optimized for anime/cartoon content\n",
    "- **RIFE**: For frame interpolation (increasing FPS)"
   ]
  },
  {
   "cell_type": "code",
   "execution_count": null,
   "metadata": {},
   "outputs": [],
   "source": [
    "# Upscale using Real-ESRGAN (good for real videos)\n",
    "if input_files:\n",
    "    input_video = input_files[0]\n",
    "    output_video = v2x.output_dir / f\"{input_video.stem}_realesrgan_2x.mp4\"\n",
    "    \n",
    "    print(f\"🎬 Upscaling {input_video.name} using Real-ESRGAN...\")\n",
    "    print(\"⚠️  This may take a few minutes depending on video length and complexity\")\n",
    "    \n",
    "    # Note: This will actually run Video2X via Docker\n",
    "    # Uncomment the line below to run actual upscaling\n",
    "    # result = v2x.upscale(str(input_video), str(output_video), processor=\"realesrgan\", scale=2)\n",
    "    \n",
    "    # For demo purposes, we'll just show the command that would be run\n",
    "    print(\"\\n📋 Command that would be executed:\")\n",
    "    print(f\"docker run --rm -v {v2x.workspace_dir}:/host ghcr.io/k4yt3x/video2x:latest \\\\\")\n",
    "    print(f\"  -i {input_video} \\\\\")\n",
    "    print(f\"  -o {output_video} \\\\\")\n",
    "    print(f\"  -p realesrgan -s 2 --realesrgan-model realesr-animevideov3\")\n",
    "    \n",
    "    print(\"\\n💡 To run actual upscaling, uncomment the v2x.upscale() line above\")\n",
    "else:\n",
    "    print(\"⚠️  No input videos available\")"
   ]
  },
  {
   "cell_type": "code",
   "execution_count": null,
   "metadata": {},
   "outputs": [],
   "source": [
    "# Example for Anime content\n",
    "if input_files:\n",
    "    input_video = input_files[0]\n",
    "    \n",
    "    print(\"🎌 For anime content, you would use:\")\n",
    "    print(f\"v2x.upscale('{input_video}', processor='anime4k', scale=4)\")\n",
    "    \n",
    "    print(\"\\n🎬 For frame interpolation (smoother motion):\")\n",
    "    print(f\"v2x.interpolate('{input_video}', target_fps=60)\")"
   ]
  },
  {
   "cell_type": "markdown",
   "metadata": {},
   "source": [
    "## Manual Docker Commands\n",
    "\n",
    "You can also run Video2X directly using Docker commands:"
   ]
  },
  {
   "cell_type": "code",
   "execution_count": null,
   "metadata": {},
   "outputs": [],
   "source": [
    "# Show how to use Video2X directly with Docker\n",
    "print(\"🐳 Direct Docker commands for Video2X:\")\n",
    "print()\n",
    "print(\"# Real-ESRGAN upscaling (2x):\")\n",
    "print(\"docker run --rm -v $(pwd):/host ghcr.io/k4yt3x/video2x:latest \\\\\")\n",
    "print(\"  -i input/video.mp4 -o output/upscaled.mp4 \\\\\")\n",
    "print(\"  -p realesrgan -s 2 --realesrgan-model realesr-animevideov3\")\n",
    "print()\n",
    "print(\"# Anime4K upscaling (4x):\")\n",
    "print(\"docker run --rm -v $(pwd):/host ghcr.io/k4yt3x/video2x:latest \\\\\")\n",
    "print(\"  -i input/anime.mp4 -o output/anime_4k.mp4 \\\\\")\n",
    "print(\"  -p anime4k -s 4\")\n",
    "print()\n",
    "print(\"# Frame interpolation with RIFE:\")\n",
    "print(\"docker run --rm -v $(pwd):/host ghcr.io/k4yt3x/video2x:latest \\\\\")\n",
    "print(\"  -i input/video.mp4 -o output/smooth.mp4 \\\\\")\n",
    "print(\"  -p rife\")"
   ]
  },
  {
   "cell_type": "markdown",
   "metadata": {},
   "source": [
    "## Check Output Results"
   ]
  },
  {
   "cell_type": "code",
   "execution_count": null,
   "metadata": {},
   "outputs": [],
   "source": [
    "# List output files\n",
    "output_files = list(v2x.output_dir.glob('*.mp4')) + list(v2x.output_dir.glob('*.avi')) + list(v2x.output_dir.glob('*.mkv'))\n",
    "\n",
    "print(\"📤 Output videos:\")\n",
    "if output_files:\n",
    "    for i, file in enumerate(output_files):\n",
    "        size_mb = file.stat().st_size / (1024 * 1024)\n",
    "        print(f\"  {i+1}. {file.name} ({size_mb:.1f} MB)\")\n",
    "else:\n",
    "    print(\"  No output videos yet. Run the upscaling process first.\")\n",
    "\n",
    "print(\"\\n💡 Tips:\")\n",
    "print(\"- Real-ESRGAN: Best for live-action, realistic content\")\n",
    "print(\"- Anime4K: Optimized for anime, cartoons, and drawn content\")\n",
    "print(\"- RIFE: For frame interpolation (increasing framerate)\")\n",
    "print(\"- Higher scale factors (4x) take much longer than lower ones (2x)\")\n",
    "print(\"- Process short clips first to test settings before processing long videos\")"
   ]
  }
 ],
 "metadata": {
  "kernelspec": {
   "display_name": "Python 3",
   "language": "python",
   "name": "python3"
  },
  "language_info": {
   "codemirror_mode": {
    "name": "ipython",
    "version": 3
   },
   "file_extension": ".py",
   "mimetype": "text/x-python",
   "name": "python",
   "nbconvert_exporter": "python",
   "pygments_lexer": "ipython3",
   "version": "3.10.0"
  }
 },
 "nbformat": 4,
 "nbformat_minor": 4
}