{
 "cells": [
  {
   "cell_type": "markdown",
   "metadata": {},
   "source": [
    "# Video2X on GitHub Codespace\n",
    "\n",
    "🚀 Complete AI-powered video upscaling environment\n",
    "\n",
    "**Features:** RealESRGAN, libplacebo, Interactive UI, GPU support"
   ]
  }
 ],
 "metadata": {
  "kernelspec": {
   "display_name": "Python 3",
   "language": "python",
   "name": "python3"
  }
 },
 "nbformat": 4,
 "nbformat_minor": 4
}
