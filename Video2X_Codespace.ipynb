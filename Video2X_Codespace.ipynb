{
 "cells": [
  {
   "cell_type": "markdown",
   "metadata": {},
   "source": [
    "# Video2X on GitHub Codespace\n",
    "\n",
    "This notebook runs Video2X in a GitHub Codespace environment.\n",
    "\n",
    "**Note:** GPU acceleration may be limited in Codespaces. For best performance, consider using Google Colab with GPU or a local machine with dedicated GPU."
   ]
  },
  {
   "cell_type": "code",
   "execution_count": null,
   "metadata": {},
   "outputs": [],
   "source": [
    "# Check system resources and GPU availability\n",
    "import subprocess\n",
    "import os\n",
    "import psutil\n",
    "\n",
    "print(\"=== System Information ===\")\n",
    "print(f\"CPU cores: {psutil.cpu_count()}\")\n",
    "print(f\"RAM: {psutil.virtual_memory().total / (1024**3):.1f} GB\")"
   ]
  }
 ],
 "metadata": {
  "kernelspec": {
   "display_name": "Python 3",
   "language": "python",
   "name": "python3"
  }
 },
 "nbformat": 4,
 "nbformat_minor": 4
}
